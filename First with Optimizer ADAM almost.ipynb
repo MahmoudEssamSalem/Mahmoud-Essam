{
 "cells": [
  {
   "cell_type": "code",
   "execution_count": 4,
   "metadata": {},
   "outputs": [],
   "source": [
    "import tensorflow as tf\n",
    "import numpy as np \n",
    "import matplotlib.pyplot as plt"
   ]
  },
  {
   "cell_type": "code",
   "execution_count": 26,
   "metadata": {},
   "outputs": [],
   "source": [
    "N, D, H = 64, 1000, 100\n",
    "x       = tf.placeholder(tf.float32, shape=(N, D))\n",
    "\n",
    "y       = tf.placeholder(tf.float32, shape=(N, D))\n",
    "\n",
    "w1      = tf.Variable(tf.random_normal((D,H)),name=\"w1\")\n",
    "\n",
    "w2      = tf.Variable(tf.random_normal((H,D)),name=\"w2\")\n",
    "\n",
    "h       = tf.maximum(tf.matmul(x, w1), 0)\n",
    "\n",
    "y_pred  = tf.matmul(h, w2)\n",
    "\n",
    "diff    = y_pred - y  \n",
    "\n",
    "loss    = tf.reduce_mean(tf.reduce_sum(diff ** 2, axis=1))\n",
    "\n",
    "grade_w1,grade_w2 = tf.gradients(loss,[w1,w2])"
   ]
  },
  {
   "cell_type": "code",
   "execution_count": 37,
   "metadata": {},
   "outputs": [],
   "source": [
    "first_moment_w1,first_moment_w2,second_moment_w1,second_moment_w2=0,0,0,0\n",
    "\n",
    "learning_rate=1e-4\n",
    "\n",
    "beta1=0.9\n",
    "beta2=0.999\n",
    "\n",
    "first_moment_w1  = beta1*first_moment_w1+(1-beta1)*grade_w1\n",
    "\n",
    "second_moment_w1 = beta2*second_moment_w1+(1-beta2)*grade_w1*grade_w1\n",
    "\n",
    "#first_unbias_w1  = first_moment_w1  / (1 - beta1 ** i)\n",
    "\n",
    "#second_unbias_w1 = second_moment_w1 / (1- beta2 ** i)\n",
    "\n",
    "new_w1           = w1.assign(w1 - learning_rate * first_moment_w1/(tf.sqrt(second_moment_w1) + 1e-7))\n",
    "\n",
    "\n",
    "first_moment_w2  = beta1*first_moment_w2+(1-beta1)*grade_w2\n",
    "\n",
    "second_moment_w2 = beta2*second_moment_w2+(1-beta2)*grade_w2*grade_w2\n",
    "\n",
    "#first_unbias_w2  = first_moment_w2  / (1 - beta1 ** i)\n",
    "\n",
    "#second_unbias_w2 = second_moment_w2 / (1- beta2 ** i)\n",
    "\n",
    "new_w2           = w2.assign(w2 - learning_rate * first_moment_w2/(tf.sqrt(second_moment_w2) + 1e-7))\n",
    "\n",
    "Update           = tf.group(new_w1,new_w2)\n",
    "\n",
    "\n",
    "\n",
    "\n"
   ]
  },
  {
   "cell_type": "code",
   "execution_count": 41,
   "metadata": {},
   "outputs": [
    {
     "data": {
      "image/png": "[encoded data removed]",
      "text/plain": [
       "<Figure size 432x288 with 1 Axes>"
      ]
     },
     "metadata": {
      "needs_background": "light"
     },
     "output_type": "display_data"
    },
    {
     "name": "stdout",
     "output_type": "stream",
     "text": [
      "[50730720.0, None] [34.63195, None]\n"
     ]
    }
   ],
   "source": [
    "with tf.Session() as sess:\n",
    "    sess.run(tf.global_variables_initializer())\n",
    "    values = {x: np.random.randn(N, D),\n",
    "              y: np.random.randn(N, D),}\n",
    "    \n",
    "    loss_summery=[]\n",
    "    steps =50000\n",
    "    for t in range(steps):\n",
    "        out      = sess.run([loss,Update],feed_dict=values)\n",
    "        loss_val = out\n",
    "        loss_summery.append(loss_val)\n",
    "    plt.plot(range(steps), loss_summery)\n",
    "    plt.show()\n",
    "    print(loss_summery[0],loss_summery[steps-1])\n",
    "\n",
    "    \n"
   ]
  },
  {
   "cell_type": "code",
   "execution_count": null,
   "metadata": {},
   "outputs": [],
   "source": []
  }
 ],
 "metadata": {
  "kernelspec": {
   "display_name": "NNlab",
   "language": "python",
   "name": "nnlab"
  },
  "language_info": {
   "codemirror_mode": {
    "name": "ipython",
    "version": 3
   },
   "file_extension": ".py",
   "mimetype": "text/x-python",
   "name": "python",
   "nbconvert_exporter": "python",
   "pygments_lexer": "ipython3",
   "version": "3.6.7"
  }
 },
 "nbformat": 4,
 "nbformat_minor": 2
}
