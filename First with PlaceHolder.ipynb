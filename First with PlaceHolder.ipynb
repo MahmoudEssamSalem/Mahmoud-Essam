{
 "cells": [
  {
   "cell_type": "code",
   "execution_count": 4,
   "metadata": {},
   "outputs": [],
   "source": [
    "import tensorflow as tf\n",
    "import numpy as np \n",
    "import matplotlib.pyplot as plt"
   ]
  },
  {
   "cell_type": "code",
   "execution_count": 5,
   "metadata": {},
   "outputs": [],
   "source": [
    "N, D, H = 64, 1000, 100\n",
    "x = tf.placeholder(tf.float32, shape=(N, D))\n",
    "y = tf.placeholder(tf.float32, shape=(N, D))\n",
    "w1 = tf.placeholder(tf.float32, shape=(D, H))\n",
    "w2 = tf.placeholder(tf.float32, shape=(H, D))\n",
    "\n",
    "h = tf.maximum(tf.matmul(x, w1), 0)\n",
    "y_pred = tf.matmul(h, w2)\n",
    "diff = y - y_pred \n",
    "loss = tf.reduce_mean(tf.reduce_sum(diff ** 2, axis=1))\n",
    "grade_w1, grade_w2 = tf.gradients(loss, [w1,w2])"
   ]
  },
  {
   "cell_type": "code",
   "execution_count": 6,
   "metadata": {},
   "outputs": [
    {
     "name": "stdout",
     "output_type": "stream",
     "text": [
      "[47152496.0, array([[-9928.779   , -1817.1914  ,  -232.6308  , ...,   -18.989532,\n",
      "        -1775.9824  , 10560.762   ],\n",
      "       [  521.9669  , -2876.7168  , -4815.2466  , ..., -5127.304   ,\n",
      "        -6546.84    , -3088.944   ],\n",
      "       [ 2591.0994  ,  2819.408   ,  4265.152   , ..., -5141.0293  ,\n",
      "        -2246.4832  ,   168.61395 ],\n",
      "       ...,\n",
      "       [ 1748.1624  ,  3226.3386  ,  2624.6318  , ...,  3213.4385  ,\n",
      "         1942.9698  ,  1427.944   ],\n",
      "       [ 3707.0251  ,  6550.209   ,  5483.63    , ...,  3927.7422  ,\n",
      "         7462.5835  ,  4770.198   ],\n",
      "       [-4748.813   , -3335.7068  , -5028.2207  , ..., -5687.1064  ,\n",
      "        -6999.67    , -6692.534   ]], dtype=float32), array([[ 2.0357980e+03, -2.8380642e+03, -1.9833317e+03, ...,\n",
      "        -4.1274005e+02, -3.0773773e+00, -4.4460229e+03],\n",
      "       [ 6.0135309e+02, -1.1840062e+03, -1.5162018e+03, ...,\n",
      "        -2.6119666e+03,  9.0549249e+02, -3.6325964e+03],\n",
      "       [ 2.8058696e+03, -3.0919620e+02, -8.0978357e+02, ...,\n",
      "        -3.1844548e+03,  8.7493536e+02, -1.4837042e+03],\n",
      "       ...,\n",
      "       [ 8.7210583e+02, -1.5505482e+03,  5.4605371e+02, ...,\n",
      "        -2.7366824e+03, -1.5595880e+02, -4.0839922e+03],\n",
      "       [-7.4985132e+02, -9.7649493e+02, -6.6016724e+02, ...,\n",
      "        -2.6314229e+03,  8.2609021e+02, -3.7056230e+03],\n",
      "       [ 1.4325881e+03,  4.7408882e+01, -8.7281726e+02, ...,\n",
      "        -2.3868804e+03, -3.9500160e+01, -2.3727437e+03]], dtype=float32)]\n"
     ]
    }
   ],
   "source": [
    "with tf.Session() as sess:\n",
    "    values = {x: np.random.randn(N, D),\n",
    "              w1: np.random.randn(D, H),\n",
    "              w2: np.random.randn(H, D),\n",
    "              y: np.random.randn(N, D)}\n",
    "    out = sess.run([loss, grade_w1, grade_w2],feed_dict=values)\n",
    "    loss_val, grade_w1_val, grade_w2_val = out\n",
    "    print(out)\n"
   ]
  },
  {
   "cell_type": "code",
   "execution_count": 7,
   "metadata": {},
   "outputs": [
    {
     "data": {
      "image/png": "[encoded data removed]",
      "text/plain": [
       "<Figure size 432x288 with 1 Axes>"
      ]
     },
     "metadata": {
      "needs_background": "light"
     },
     "output_type": "display_data"
    },
    {
     "name": "stdout",
     "output_type": "stream",
     "text": [
      "50337770.0 975.15814\n"
     ]
    }
   ],
   "source": [
    "learning_rate=1e-5\n",
    "with tf.Session() as sess:\n",
    "    values = {x: np.random.randn(N, D),\n",
    "              w1: np.random.randn(D, H),\n",
    "              w2: np.random.randn(H, D),\n",
    "              y: np.random.randn(N, D)}\n",
    "    loss_summery=[]\n",
    "    steps=50\n",
    "    for t in range(steps):\n",
    "        out = sess.run([loss, grade_w1, grade_w2],feed_dict=values)\n",
    "        loss_val, grade_w1_val, grade_w2_val = out\n",
    "        values[w1] -= learning_rate * grade_w1_val\n",
    "        values[w1] -= learning_rate * grade_w1_val\n",
    "        loss_summery.append(loss_val)\n",
    "    plt.plot(range(steps), loss_summery)\n",
    "    plt.show()\n",
    "    print(loss_summery[0],loss_summery[steps-1])"
   ]
  },
  {
   "cell_type": "code",
   "execution_count": null,
   "metadata": {},
   "outputs": [],
   "source": []
  }
 ],
 "metadata": {
  "kernelspec": {
   "display_name": "NNlab",
   "language": "python",
   "name": "nnlab"
  },
  "language_info": {
   "codemirror_mode": {
    "name": "ipython",
    "version": 3
   },
   "file_extension": ".py",
   "mimetype": "text/x-python",
   "name": "python",
   "nbconvert_exporter": "python",
   "pygments_lexer": "ipython3",
   "version": "3.6.7"
  }
 },
 "nbformat": 4,
 "nbformat_minor": 2
}
