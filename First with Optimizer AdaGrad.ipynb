{
 "cells": [
  {
   "cell_type": "code",
   "execution_count": 1,
   "metadata": {},
   "outputs": [],
   "source": [
    "import tensorflow as tf\n",
    "import numpy as np \n",
    "import matplotlib.pyplot as plt"
   ]
  },
  {
   "cell_type": "code",
   "execution_count": 2,
   "metadata": {},
   "outputs": [],
   "source": [
    "N, D, H = 64, 1000, 100\n",
    "x       = tf.placeholder(tf.float32, shape=(N, D))\n",
    "\n",
    "y       = tf.placeholder(tf.float32, shape=(N, D))\n",
    "\n",
    "w1      = tf.Variable(tf.random_normal((D,H)),name=\"w1\")\n",
    "\n",
    "w2      = tf.Variable(tf.random_normal((H,D)),name=\"w2\")\n",
    "\n",
    "h       = tf.maximum(tf.matmul(x, w1), 0)\n",
    "\n",
    "y_pred  = tf.matmul(h, w2)\n",
    "\n",
    "diff    = y_pred - y  \n",
    "\n",
    "loss    = tf.reduce_mean(tf.reduce_sum(diff ** 2, axis=1))\n",
    "\n",
    "grade_w1,grade_w2 = tf.gradients(loss,[w1,w2])"
   ]
  },
  {
   "cell_type": "code",
   "execution_count": 9,
   "metadata": {},
   "outputs": [],
   "source": [
    "\n",
    "#Using Optimizer ADAGRID\n",
    "grad_squared_w1   = tf.zeros(shape=[D,H],name=\"grad_squared_w1\")\n",
    "\n",
    "grad_squared_w2   = tf.zeros(shape=[H,D],name=\"grad_squared_w2\")\n",
    "\n",
    "learning_rate     = 1e-3\n",
    "\n",
    "grad_squared_w1  += (grade_w1 * grade_w1)\n",
    "\n",
    "new_w1            = w1.assign(w1 - learning_rate * grade_w1/(tf.sqrt(grad_squared_w1) + 1e-7))\n",
    " \n",
    "grad_squared_w2  += (grade_w2 * grade_w2)\n",
    "\n",
    "new_w2            = w2.assign(w2 - learning_rate * grade_w2/(tf.sqrt(grad_squared_w2) + 1e-7))\n",
    "\n",
    "Update            = tf.group(new_w1,new_w2)\n",
    "\n",
    "Q                 = tf.group(grad_squared_w1 , grad_squared_w2)"
   ]
  },
  {
   "cell_type": "code",
   "execution_count": 11,
   "metadata": {},
   "outputs": [
    {
     "data": {
      "image/png": "[encoded data removed]",
      "text/plain": [
       "<Figure size 432x288 with 1 Axes>"
      ]
     },
     "metadata": {
      "needs_background": "light"
     },
     "output_type": "display_data"
    },
    {
     "name": "stdout",
     "output_type": "stream",
     "text": [
      "[49412548.0, None] [714.2765, None]\n"
     ]
    }
   ],
   "source": [
    "with tf.Session() as sess:\n",
    "    sess.run(tf.global_variables_initializer())\n",
    "    values = {x: np.random.randn(N, D),\n",
    "              y: np.random.randn(N, D),}\n",
    "    \n",
    "    loss_summery=[]\n",
    "    steps =5000\n",
    "    for t in range(steps):\n",
    "        out      = sess.run([loss,Update],feed_dict=values)\n",
    "        loss_val = out\n",
    "        loss_summery.append(loss_val)\n",
    "    plt.plot(range(steps), loss_summery)\n",
    "    plt.show()\n",
    "    print(loss_summery[0],loss_summery[steps-1])\n",
    "\n",
    "    \n"
   ]
  },
  {
   "cell_type": "code",
   "execution_count": null,
   "metadata": {},
   "outputs": [],
   "source": []
  }
 ],
 "metadata": {
  "kernelspec": {
   "display_name": "NNlab",
   "language": "python",
   "name": "nnlab"
  },
  "language_info": {
   "codemirror_mode": {
    "name": "ipython",
    "version": 3
   },
   "file_extension": ".py",
   "mimetype": "text/x-python",
   "name": "python",
   "nbconvert_exporter": "python",
   "pygments_lexer": "ipython3",
   "version": "3.6.7"
  }
 },
 "nbformat": 4,
 "nbformat_minor": 2
}
